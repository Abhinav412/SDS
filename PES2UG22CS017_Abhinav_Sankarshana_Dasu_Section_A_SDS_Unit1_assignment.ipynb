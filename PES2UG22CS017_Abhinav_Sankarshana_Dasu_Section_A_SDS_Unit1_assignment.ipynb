{
 "cells": [
  {
   "cell_type": "markdown",
   "metadata": {},
   "source": [
    "#### 1. Perform web scraping on the site mechalord7.github.io and retrieve article titles and summaries as displayed on Home page\n",
    "#### 2. Read CSV file \"Assignment1.csv\" using Pandas. Display first 15 rows of the dataframe. Display the rows where column \"Awards\" is \"1 win\" and \"5 wins\". Identify max and min values in Height column and handle outliers by removing them, then identify rows where Height value is null and impute the missing values.\n",
    "#### 3. Sort celebs by height in descending order. Calculate age based on Date of Birth and group rows by \"Role\" and calculate average Age.\n",
    "#### 4. Create a histogram to visualize the distribution of celebrities' ages.\n",
    "#### 5. Create a box plot to compare the ages of male and female celebrities.\n",
    "#### 6. Create a bar chart to display the count of celebrities by their professions.\n",
    "#### 7. Calculate the correlation matrix between ages, heights, and awards won by celebrities.\n",
    "#### 8. Identify an apt visualization to plot the trend of celebrities ages over their ranking. Also name one bad visualization."
   ]
  },
  {
   "cell_type": "code",
   "execution_count": 2,
   "metadata": {},
   "outputs": [
    {
     "name": "stdout",
     "output_type": "stream",
     "text": [
      "Successful\n",
      "\n",
      "1. Essentials? Not the tools!\n",
      "\n",
      "How do you handle different terrain?\n",
      "\n",
      "\n",
      "2. Motorycling Skills\n",
      "\n",
      "Did you just think you couldn’t do that?\n",
      "\n",
      "\n",
      "3. Ride to Bidadi\n",
      "\n",
      "Need Therapy? - Nah, just ride!\n",
      "\n",
      "\n",
      "4. A Hero Off the Road\n",
      "\n",
      "The cool guy who excels at sports\n",
      "\n",
      "\n",
      "5. The Urban Hunter\n",
      "\n",
      "Playing field: Thick Urban Jungle\n",
      "\n",
      "\n",
      "6. Scram away\n",
      "\n",
      "A younger sibling for the young?\n",
      "\n",
      "\n",
      "7. Tauro\n",
      "\n",
      "First love.\n",
      "\n",
      "\n",
      "8. Safety\n",
      "\n",
      "Safety on the road. Your responsibilities and how they matter!\n",
      "\n",
      "\n",
      "9. Dreams\n",
      "\n",
      "What are dreams? and what are they to us?\n",
      "\n",
      "\n",
      "10. Rambler Talez\n",
      "\n",
      "Welcome to my blog! Now hear me ramble.\n",
      "\n",
      "\n"
     ]
    }
   ],
   "source": [
    "#1\n",
    "import requests\n",
    "import pandas as pd\n",
    "from bs4 import BeautifulSoup\n",
    "\n",
    "url = \"https://mechalord7.github.io/\"\n",
    "\n",
    "response = requests.get(url)\n",
    "\n",
    "if response.status_code==200:\n",
    "    print(\"Successful\\n\")\n",
    "else:\n",
    "    print(\"Failed\\n\")\n",
    "\n",
    "data = BeautifulSoup(response.text,\"html.parser\")\n",
    "\n",
    "headings=[]\n",
    "description=[]\n",
    "\n",
    "for i in data.select(\".list__item\"):\n",
    "    article_title=i.find(\"a\").text\n",
    "    article_summary = i.find_all(\"p\")[1].text\n",
    "    headings.append(article_title)\n",
    "    description.append(article_summary)\n",
    "\n",
    "for i, (headline, summary) in enumerate(zip(headings, description),start=1):\n",
    "    print(f\"{i}. {headline}\\n{summary}\\n\")"
   ]
  },
  {
   "cell_type": "code",
   "execution_count": 1,
   "metadata": {},
   "outputs": [],
   "source": [
    "#2\n",
    "import pandas as pd\n",
    "import numpy as np\n",
    "import matplotlib.pyplot as plt\n",
    "import seaborn as sns\n",
    "file_path = \"Assignment1.csv\"\n",
    "data = pd.read_csv(file_path)"
   ]
  },
  {
   "cell_type": "code",
   "execution_count": 3,
   "metadata": {},
   "outputs": [
    {
     "name": "stdout",
     "output_type": "stream",
     "text": [
      "The first fifteen rows are:\n",
      "[]\n"
     ]
    }
   ],
   "source": [
    "print(\"The first fifteen rows are:\")\n",
    "print(data.head(15))"
   ]
  },
  {
   "cell_type": "code",
   "execution_count": 5,
   "metadata": {},
   "outputs": [
    {
     "ename": "KeyError",
     "evalue": "'Awards'",
     "output_type": "error",
     "traceback": [
      "\u001b[1;31m---------------------------------------------------------------------------\u001b[0m",
      "\u001b[1;31mKeyError\u001b[0m                                  Traceback (most recent call last)",
      "Cell \u001b[1;32mIn[5], line 1\u001b[0m\n\u001b[1;32m----> 1\u001b[0m data[data[\u001b[39m'\u001b[39;49m\u001b[39mAwards\u001b[39;49m\u001b[39m'\u001b[39;49m]\u001b[39m.\u001b[39misin([\u001b[39m'\u001b[39m\u001b[39m1 win\u001b[39m\u001b[39m'\u001b[39m, \u001b[39m'\u001b[39m\u001b[39m5 wins\u001b[39m\u001b[39m'\u001b[39m])]\n",
      "File \u001b[1;32m~\\AppData\\Local\\Packages\\PythonSoftwareFoundation.Python.3.10_qbz5n2kfra8p0\\LocalCache\\local-packages\\Python310\\site-packages\\bs4\\element.py:1573\u001b[0m, in \u001b[0;36mTag.__getitem__\u001b[1;34m(self, key)\u001b[0m\n\u001b[0;32m   1570\u001b[0m \u001b[39mdef\u001b[39;00m \u001b[39m__getitem__\u001b[39m(\u001b[39mself\u001b[39m, key):\n\u001b[0;32m   1571\u001b[0m \u001b[39m    \u001b[39m\u001b[39m\"\"\"tag[key] returns the value of the 'key' attribute for the Tag,\u001b[39;00m\n\u001b[0;32m   1572\u001b[0m \u001b[39m    and throws an exception if it's not there.\"\"\"\u001b[39;00m\n\u001b[1;32m-> 1573\u001b[0m     \u001b[39mreturn\u001b[39;00m \u001b[39mself\u001b[39;49m\u001b[39m.\u001b[39;49mattrs[key]\n",
      "\u001b[1;31mKeyError\u001b[0m: 'Awards'"
     ]
    }
   ],
   "source": [
    "data[data['Awards'].isin(['1 win', '5 wins'])]"
   ]
  },
  {
   "cell_type": "code",
   "execution_count": 4,
   "metadata": {},
   "outputs": [
    {
     "ename": "KeyError",
     "evalue": "'height in m'",
     "output_type": "error",
     "traceback": [
      "\u001b[1;31m---------------------------------------------------------------------------\u001b[0m",
      "\u001b[1;31mKeyError\u001b[0m                                  Traceback (most recent call last)",
      "Cell \u001b[1;32mIn[4], line 1\u001b[0m\n\u001b[1;32m----> 1\u001b[0m height_max \u001b[39m=\u001b[39m data[\u001b[39m'\u001b[39;49m\u001b[39mheight in m\u001b[39;49m\u001b[39m'\u001b[39;49m]\u001b[39m.\u001b[39mmax()\n\u001b[0;32m      2\u001b[0m height_min \u001b[39m=\u001b[39m data[\u001b[39m'\u001b[39m\u001b[39mheight in m\u001b[39m\u001b[39m'\u001b[39m]\u001b[39m.\u001b[39mmin()\n\u001b[0;32m      3\u001b[0m \u001b[39mprint\u001b[39m(height_max,\u001b[39m\"\u001b[39m\u001b[39m      \u001b[39m\u001b[39m\"\u001b[39m,height_min)\n",
      "File \u001b[1;32m~\\AppData\\Local\\Packages\\PythonSoftwareFoundation.Python.3.10_qbz5n2kfra8p0\\LocalCache\\local-packages\\Python310\\site-packages\\bs4\\element.py:1573\u001b[0m, in \u001b[0;36mTag.__getitem__\u001b[1;34m(self, key)\u001b[0m\n\u001b[0;32m   1570\u001b[0m \u001b[39mdef\u001b[39;00m \u001b[39m__getitem__\u001b[39m(\u001b[39mself\u001b[39m, key):\n\u001b[0;32m   1571\u001b[0m \u001b[39m    \u001b[39m\u001b[39m\"\"\"tag[key] returns the value of the 'key' attribute for the Tag,\u001b[39;00m\n\u001b[0;32m   1572\u001b[0m \u001b[39m    and throws an exception if it's not there.\"\"\"\u001b[39;00m\n\u001b[1;32m-> 1573\u001b[0m     \u001b[39mreturn\u001b[39;00m \u001b[39mself\u001b[39;49m\u001b[39m.\u001b[39;49mattrs[key]\n",
      "\u001b[1;31mKeyError\u001b[0m: 'height in m'"
     ]
    }
   ],
   "source": [
    "height_max = data['height in m'].max()\n",
    "height_min = data['height in m'].min()\n",
    "print(height_max,\"      \",height_min)"
   ]
  },
  {
   "cell_type": "code",
   "execution_count": null,
   "metadata": {},
   "outputs": [],
   "source": [
    "data['height in m'] = np.where((data['height in m'] > height_max) | (data['height in m'] < height_min), np.nan, data['height in m'])"
   ]
  },
  {
   "cell_type": "code",
   "execution_count": null,
   "metadata": {},
   "outputs": [],
   "source": [
    "mean_height = data['height in m'].mean()\n",
    "data['height in m'].fillna(mean_height, inplace=True)"
   ]
  },
  {
   "cell_type": "code",
   "execution_count": null,
   "metadata": {},
   "outputs": [],
   "source": [
    "#3\n",
    "sorted_data = data.sort_values(by='height in m', ascending=False)"
   ]
  },
  {
   "cell_type": "code",
   "execution_count": null,
   "metadata": {},
   "outputs": [],
   "source": [
    "data['Date_of_birth'] = pd.to_datetime(data['Date_of_birth'])\n",
    "current_year = pd.to_datetime('today').year\n",
    "data['Age'] = current_year - data['Date_of_birth'].dt.year\n",
    "data['Age']"
   ]
  },
  {
   "cell_type": "code",
   "execution_count": null,
   "metadata": {},
   "outputs": [],
   "source": [
    "avg_age_by_role = data.groupby('Role')['Age'].mean()\n",
    "avg_age_by_role"
   ]
  },
  {
   "cell_type": "code",
   "execution_count": null,
   "metadata": {},
   "outputs": [],
   "source": [
    "#4\n",
    "plt.figure(figsize=(10, 6))\n",
    "sns.histplot(data['Age'], bins=15, kde=True)\n",
    "plt.xlabel('Age')\n",
    "plt.ylabel('Frequency')\n",
    "plt.title('Distribution of Celebrities\\' Ages')\n",
    "plt.show()"
   ]
  },
  {
   "cell_type": "code",
   "execution_count": null,
   "metadata": {},
   "outputs": [],
   "source": [
    "#5\n",
    "plt.figure(figsize=(10, 6))\n",
    "sns.boxplot(x='Gender', y='Age', data=data)\n",
    "plt.xlabel('Gender')\n",
    "plt.ylabel('Age')\n",
    "plt.title('Comparison of Ages between Male and Female Celebrities')\n",
    "plt.show()"
   ]
  },
  {
   "cell_type": "code",
   "execution_count": null,
   "metadata": {},
   "outputs": [],
   "source": [
    "#6\n",
    "plt.figure(figsize=(12, 6))\n",
    "data['Role'].value_counts().plot(kind='bar')\n",
    "plt.xlabel('Profession')\n",
    "plt.ylabel('Count')\n",
    "plt.title('Count of Celebrities by Profession')\n",
    "plt.xticks(rotation=45)\n",
    "plt.show()"
   ]
  },
  {
   "cell_type": "code",
   "execution_count": null,
   "metadata": {},
   "outputs": [],
   "source": [
    "#7\n",
    "correlation_matrix = data[['Age', 'height in m', 'Awards']].corr()\n",
    "plt.figure(figsize=(10, 8))\n",
    "sns.heatmap(correlation_matrix, annot=True, cmap=\"coolwarm\")\n",
    "plt.title(\"Correlation Heat Map\")\n",
    "plt.show()"
   ]
  },
  {
   "cell_type": "code",
   "execution_count": null,
   "metadata": {},
   "outputs": [],
   "source": [
    "#8\n",
    "#Scatter plot is a good visualization\n",
    "plt.figure(figsize=(6,10))\n",
    "y=data['Rank']\n",
    "x=data['Age']\n",
    "plt.scatter(x,y)\n",
    "plt.ylabel(\"Ranking\")\n",
    "plt.xlabel(\"Age\")\n",
    "plt.title(\"Comparison between celebrity age and ranking(Good visualization)\")\n",
    "plt.show()\n",
    "\n",
    "print(\"\\n\")\n",
    "\n",
    "#bar plot is a bad visualization\n",
    "plt.figure(figsize=(20,10))\n",
    "y=data['Rank']\n",
    "x=data['Age']\n",
    "plt.bar(x,y)\n",
    "plt.ylabel(\"Ranking\")\n",
    "plt.xlabel(\"Age\")\n",
    "plt.title(\"Comparison between celebrity age and ranking(Bad visualization)\")\n",
    "plt.show()\n",
    "\n",
    "print(\"Scatter plot is a better visualisation method compared to bar plot\")"
   ]
  }
 ],
 "metadata": {
  "kernelspec": {
   "display_name": "Python 3",
   "language": "python",
   "name": "python3"
  },
  "language_info": {
   "codemirror_mode": {
    "name": "ipython",
    "version": 3
   },
   "file_extension": ".py",
   "mimetype": "text/x-python",
   "name": "python",
   "nbconvert_exporter": "python",
   "pygments_lexer": "ipython3",
   "version": "3.10.11"
  },
  "orig_nbformat": 4
 },
 "nbformat": 4,
 "nbformat_minor": 2
}
