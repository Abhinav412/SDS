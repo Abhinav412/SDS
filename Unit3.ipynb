{
 "cells": [
  {
   "cell_type": "code",
   "execution_count": 12,
   "metadata": {},
   "outputs": [
    {
     "name": "stdout",
     "output_type": "stream",
     "text": [
      "Requirement already satisfied: statsmodels in c:\\users\\dell\\appdata\\local\\packages\\pythonsoftwarefoundation.python.3.10_qbz5n2kfra8p0\\localcache\\local-packages\\python310\\site-packages (0.14.0)\n",
      "Requirement already satisfied: packaging>=21.3 in c:\\users\\dell\\appdata\\local\\packages\\pythonsoftwarefoundation.python.3.10_qbz5n2kfra8p0\\localcache\\local-packages\\python310\\site-packages (from statsmodels) (23.1)\n",
      "Requirement already satisfied: numpy>=1.22.3 in c:\\users\\dell\\appdata\\local\\packages\\pythonsoftwarefoundation.python.3.10_qbz5n2kfra8p0\\localcache\\local-packages\\python310\\site-packages (from statsmodels) (1.25.2)\n",
      "Requirement already satisfied: scipy!=1.9.2,>=1.4 in c:\\users\\dell\\appdata\\local\\packages\\pythonsoftwarefoundation.python.3.10_qbz5n2kfra8p0\\localcache\\local-packages\\python310\\site-packages (from statsmodels) (1.11.3)\n",
      "Requirement already satisfied: patsy>=0.5.2 in c:\\users\\dell\\appdata\\local\\packages\\pythonsoftwarefoundation.python.3.10_qbz5n2kfra8p0\\localcache\\local-packages\\python310\\site-packages (from statsmodels) (0.5.3)\n",
      "Requirement already satisfied: pandas>=1.0 in c:\\users\\dell\\appdata\\local\\packages\\pythonsoftwarefoundation.python.3.10_qbz5n2kfra8p0\\localcache\\local-packages\\python310\\site-packages (from statsmodels) (2.0.3)\n",
      "Requirement already satisfied: pytz>=2020.1 in c:\\users\\dell\\appdata\\local\\packages\\pythonsoftwarefoundation.python.3.10_qbz5n2kfra8p0\\localcache\\local-packages\\python310\\site-packages (from pandas>=1.0->statsmodels) (2023.3)\n",
      "Requirement already satisfied: tzdata>=2022.1 in c:\\users\\dell\\appdata\\local\\packages\\pythonsoftwarefoundation.python.3.10_qbz5n2kfra8p0\\localcache\\local-packages\\python310\\site-packages (from pandas>=1.0->statsmodels) (2023.3)\n",
      "Requirement already satisfied: python-dateutil>=2.8.2 in c:\\users\\dell\\appdata\\local\\packages\\pythonsoftwarefoundation.python.3.10_qbz5n2kfra8p0\\localcache\\local-packages\\python310\\site-packages (from pandas>=1.0->statsmodels) (2.8.2)\n",
      "Requirement already satisfied: six in c:\\users\\dell\\appdata\\local\\packages\\pythonsoftwarefoundation.python.3.10_qbz5n2kfra8p0\\localcache\\local-packages\\python310\\site-packages (from patsy>=0.5.2->statsmodels) (1.16.0)\n"
     ]
    },
    {
     "name": "stderr",
     "output_type": "stream",
     "text": [
      "\n",
      "[notice] A new release of pip is available: 23.0.1 -> 23.2.1\n",
      "[notice] To update, run: C:\\Users\\DELL\\AppData\\Local\\Microsoft\\WindowsApps\\PythonSoftwareFoundation.Python.3.10_qbz5n2kfra8p0\\python.exe -m pip install --upgrade pip\n"
     ]
    }
   ],
   "source": [
    "!pip install statsmodels"
   ]
  },
  {
   "cell_type": "code",
   "execution_count": 15,
   "metadata": {},
   "outputs": [
    {
     "name": "stdout",
     "output_type": "stream",
     "text": [
      "95% confidence interval for proportion is: (0.6897154853265062, 0.7502845146734938)\n"
     ]
    }
   ],
   "source": [
    "import numpy as np\n",
    "from statsmodels.stats.proportion import proportion_confint\n",
    "\n",
    "data = np.random.choice([0,1], size=100, p=[0.3,0.7])\n",
    "\n",
    "ci = proportion_confint(sum(data),len(data),alpha=0.5,method='normal')\n",
    "\n",
    "print(\"95% Confidence Interval for Proportion is:\",ci)"
   ]
  },
  {
   "cell_type": "code",
   "execution_count": 14,
   "metadata": {},
   "outputs": [
    {
     "name": "stdout",
     "output_type": "stream",
     "text": [
      "95% confidence interval is: (92.7165976479135, 106.28458143998579)\n"
     ]
    }
   ],
   "source": [
    "import numpy as np\n",
    "from scipy import stats\n",
    "\n",
    "data = np.random.normal(loc=100,scale=15,size=30)\n",
    "\n",
    "t_statistic = stats.t.ppf(0.975,df=len(data)-1)\n",
    "standard_error = np.std(data,ddof=1)/np.sqrt(len(data))\n",
    "margin_of_error = t_statistic * standard_error\n",
    "confidence_interval = (np.mean(data)-margin_of_error,np.mean(data)+margin_of_error)\n",
    "print(\"95% Confidence Interval is:\",confidence_interval)"
   ]
  },
  {
   "cell_type": "code",
   "execution_count": 16,
   "metadata": {},
   "outputs": [
    {
     "name": "stdout",
     "output_type": "stream",
     "text": [
      "95% Confidence Interval for the Difference Between Means is: (-15.304012753478865, -5.940673766060235)\n"
     ]
    }
   ],
   "source": [
    "import numpy as np\n",
    "from scipy import stats\n",
    "\n",
    "data_group1 = np.random.normal(loc=100,scale=15,size=100)\n",
    "data_group2 = np.random.normal(loc=110,scale=18,size=100)\n",
    "\n",
    "mean_diff = np.mean(data_group1) - np.mean(data_group2)\n",
    "std_error_diff = np.sqrt((np.var(data_group1, ddof=1)/len(data_group1))+(np.var(data_group2, ddof=1)/len(data_group2)))\n",
    "z_critical = stats.norm.ppf(0.975)\n",
    "margin_of_error = z_critical * std_error_diff\n",
    "confidence_interval = (mean_diff-margin_of_error,mean_diff+margin_of_error)\n",
    "print(\"95% Confidence Interval for the Difference Between Means is:\",confidence_interval)\n"
   ]
  },
  {
   "cell_type": "code",
   "execution_count": 18,
   "metadata": {},
   "outputs": [
    {
     "name": "stdout",
     "output_type": "stream",
     "text": [
      "95% Confidence Interval for Paired Data (Before vs After): [-3.23885063 -1.16114937]\n"
     ]
    }
   ],
   "source": [
    "import numpy as np\n",
    "from scipy import stats\n",
    "\n",
    "before_treatment = np.array([15,18,20,24,28])\n",
    "after_treatment = np.array([12,16,19,21,26])\n",
    "\n",
    "Difference = after_treatment - before_treatment\n",
    "t_statistic = stats.t.ppf(0.975, df=len(Difference)-1)\n",
    "std_error_diff = np.std(Difference,ddof=1)/np.sqrt(len(Difference))\n",
    "margin_of_error = t_statistic * std_error_diff\n",
    "confidence_interval = np.mean(Difference) + np.array([-1,1])*margin_of_error\n",
    "print(\"95% Confidence Interval for Paired Data (Before vs After):\",confidence_interval)"
   ]
  },
  {
   "cell_type": "code",
   "execution_count": 24,
   "metadata": {},
   "outputs": [
    {
     "ename": "ValueError",
     "evalue": "maximum supported dimension for an ndarray is 32, found 100",
     "output_type": "error",
     "traceback": [
      "\u001b[1;31m---------------------------------------------------------------------------\u001b[0m",
      "\u001b[1;31mValueError\u001b[0m                                Traceback (most recent call last)",
      "\u001b[1;32mc:\\PES\\Second Year\\Computer Science\\GitHub\\SDS\\Unit3.ipynb Cell 6\u001b[0m line \u001b[0;36m1\n\u001b[0;32m      <a href='vscode-notebook-cell:/c%3A/PES/Second%20Year/Computer%20Science/GitHub/SDS/Unit3.ipynb#X10sZmlsZQ%3D%3D?line=7'>8</a>\u001b[0m confidence_intervals \u001b[39m=\u001b[39m []\n\u001b[0;32m     <a href='vscode-notebook-cell:/c%3A/PES/Second%20Year/Computer%20Science/GitHub/SDS/Unit3.ipynb#X10sZmlsZQ%3D%3D?line=9'>10</a>\u001b[0m \u001b[39mfor\u001b[39;00m sample_size \u001b[39min\u001b[39;00m sample_sizes:\n\u001b[1;32m---> <a href='vscode-notebook-cell:/c%3A/PES/Second%20Year/Computer%20Science/GitHub/SDS/Unit3.ipynb#X10sZmlsZQ%3D%3D?line=10'>11</a>\u001b[0m     sample_data \u001b[39m=\u001b[39m np\u001b[39m.\u001b[39;49mrandom\u001b[39m.\u001b[39;49mchoice(data,size\u001b[39m=\u001b[39;49msample_data)\n\u001b[0;32m     <a href='vscode-notebook-cell:/c%3A/PES/Second%20Year/Computer%20Science/GitHub/SDS/Unit3.ipynb#X10sZmlsZQ%3D%3D?line=11'>12</a>\u001b[0m     standard_error \u001b[39m=\u001b[39m np\u001b[39m.\u001b[39mstd(sample_data,ddof\u001b[39m=\u001b[39m\u001b[39m1\u001b[39m)\u001b[39m/\u001b[39mnp\u001b[39m.\u001b[39msqrt(sample_size)\n\u001b[0;32m     <a href='vscode-notebook-cell:/c%3A/PES/Second%20Year/Computer%20Science/GitHub/SDS/Unit3.ipynb#X10sZmlsZQ%3D%3D?line=12'>13</a>\u001b[0m     margin_of_error \u001b[39m=\u001b[39m stats\u001b[39m.\u001b[39mnorm\u001b[39m.\u001b[39mppf(\u001b[39m0.975\u001b[39m)\u001b[39m*\u001b[39mstandard_error\n",
      "File \u001b[1;32mmtrand.pyx:997\u001b[0m, in \u001b[0;36mnumpy.random.mtrand.RandomState.choice\u001b[1;34m()\u001b[0m\n",
      "File \u001b[1;32mmtrand.pyx:779\u001b[0m, in \u001b[0;36mnumpy.random.mtrand.RandomState.randint\u001b[1;34m()\u001b[0m\n",
      "File \u001b[1;32m_bounded_integers.pyx:1434\u001b[0m, in \u001b[0;36mnumpy.random._bounded_integers._rand_int32\u001b[1;34m()\u001b[0m\n",
      "\u001b[1;31mValueError\u001b[0m: maximum supported dimension for an ndarray is 32, found 100"
     ]
    }
   ],
   "source": [
    "import numpy as np\n",
    "from scipy import stats\n",
    "import matplotlib.pyplot as plt\n",
    "\n",
    "data = np.random.normal(loc=100,scale=15,size=100)\n",
    "# Calculate 95% confidence interval for different sample sizes\n",
    "sample_sizes = [10,30,50,100]\n",
    "confidence_intervals = []\n",
    "\n",
    "for sample_size in sample_sizes:\n",
    "    sample_data = np.random.choice(data,size=sample_data)\n",
    "    standard_error = np.std(sample_data,ddof=1)/np.sqrt(sample_size)\n",
    "    margin_of_error = stats.norm.ppf(0.975)*standard_error\n",
    "    confidence_interval = (np.mean(sample_data)-margin_of_error,np.mean(sample_data)+margin_of_error)\n",
    "    confidence_intervals.append(confidence_interval)\n",
    "    plt.figure()\n",
    "    plt.hist(sample_data)\n",
    "    plt.title(\"Sample Size: {}\".format(sample_size))\n",
    "    plt.xlabel(\"Value\")\n",
    "    plt.ylabel(\"Frequency\")\n",
    "    plt.show()\n",
    "    "
   ]
  }
 ],
 "metadata": {
  "kernelspec": {
   "display_name": "Python 3",
   "language": "python",
   "name": "python3"
  },
  "language_info": {
   "codemirror_mode": {
    "name": "ipython",
    "version": 3
   },
   "file_extension": ".py",
   "mimetype": "text/x-python",
   "name": "python",
   "nbconvert_exporter": "python",
   "pygments_lexer": "ipython3",
   "version": "3.10.11"
  }
 },
 "nbformat": 4,
 "nbformat_minor": 2
}
